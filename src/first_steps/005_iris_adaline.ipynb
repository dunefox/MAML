{
 "cells": [
  {
   "cell_type": "markdown",
   "metadata": {},
   "source": [
    "# Adaline: Linear classification with the Iris data set\n",
    "\n",
    "**Abstract:** In this tutorial we will:\n",
    "* Implement an Adaline\n",
    "* Carry out the training\n",
    "* Visualize the results"
   ]
  },
  {
   "cell_type": "code",
   "execution_count": 1,
   "metadata": {},
   "outputs": [],
   "source": [
    "import pandas as pd\n",
    "import numpy as np\n",
    "import matplotlib\n",
    "import matplotlib.pyplot as plt"
   ]
  },
  {
   "cell_type": "code",
   "execution_count": 2,
   "metadata": {},
   "outputs": [
    {
     "data": {
      "application/javascript": [
       "\n",
       "IPython.OutputArea.prototype._should_scroll = function(lines) {\n",
       "    return false;\n",
       "}\n"
      ],
      "text/plain": [
       "<IPython.core.display.Javascript object>"
      ]
     },
     "metadata": {},
     "output_type": "display_data"
    }
   ],
   "source": [
    "%matplotlib inline\n",
    "\n",
    "plt.rcParams[\"figure.figsize\"] = [10, 8]\n",
    "matplotlib.rc(\"savefig\", dpi=200)\n",
    "\n",
    "from IPython.display import display, Javascript\n",
    "\n",
    "disable_js = \"\"\"\n",
    "IPython.OutputArea.prototype._should_scroll = function(lines) {\n",
    "    return false;\n",
    "}\n",
    "\"\"\"\n",
    "display(Javascript(disable_js))"
   ]
  },
  {
   "cell_type": "code",
   "execution_count": 3,
   "metadata": {},
   "outputs": [],
   "source": [
    "np.random.seed(13)"
   ]
  },
  {
   "cell_type": "code",
   "execution_count": 4,
   "metadata": {},
   "outputs": [],
   "source": [
    "# module for file access\n",
    "import os.path\n",
    "\n",
    "# global file name of our data source\n",
    "file_name = 'iris.csv'\n",
    "\n",
    "def fetch_iris_data():\n",
    "    '''\n",
    "    Fetch data from an internet archive and save as file `iris.csv`.\n",
    "    '''\n",
    "\n",
    "    df = pd.read_csv('http://archive.ics.uci.edu/ml/machine-learning-databases/iris/iris.data',\n",
    "                     header=None)\n",
    "    df.to_csv(file_name, header=None, index=False)\n",
    "\n",
    "    return\n",
    "\n",
    "# fetch data from internet source only if the file is not available locally\n",
    "if not os.path.exists(file_name):\n",
    "    fetch_iris_data()"
   ]
  },
  {
   "cell_type": "code",
   "execution_count": 5,
   "metadata": {},
   "outputs": [],
   "source": [
    "df = pd.read_csv(file_name, header=None)"
   ]
  },
  {
   "cell_type": "code",
   "execution_count": 6,
   "metadata": {},
   "outputs": [],
   "source": [
    "def prep_iris_data(df):\n",
    "    ''' \n",
    "    Fetches 2d data points from the iris data from the pandas dataframe `df` and\n",
    "    return (X, Y), where X is a list of 2d points and Y a list of labels.\n",
    "    '''\n",
    "    \n",
    "    # as feature we take the first two data entries,\n",
    "    # which are sepal length and width\n",
    "    X = df.iloc[:, 0:2].values\n",
    "\n",
    "    # read class labels and convert them to numers as follow:\n",
    "    # `iris-setosa` set to value -1, `iris-versicol` as well as `iris-virginica` to value 1\n",
    "    Y = df.iloc[:, 4].values \n",
    "    Y = np.where(Y == 'Iris-setosa', -1, 1)\n",
    "    \n",
    "    # to make it more realistic, we randomize the data\n",
    "    indices = np.random.permutation(len(X))\n",
    "    X_rand = [X[i] for i in indices]\n",
    "    Y_rand = [Y[i] for i in indices]\n",
    "\n",
    "    # return the randomized lists as numpy arrays\n",
    "    return np.array(X_rand), np.array(Y_rand)"
   ]
  },
  {
   "cell_type": "code",
   "execution_count": 7,
   "metadata": {},
   "outputs": [],
   "source": [
    "def plot_data(X, Y):\n",
    "    '''\n",
    "    Plot the data X, setosa in red, and others in blue.\n",
    "    '''\n",
    "\n",
    "    # divide data depedning on the label: iris-setosa or other\n",
    "    X_setosa = []\n",
    "    X_other = []\n",
    "    for x, y in zip(X, Y):\n",
    "        if y == -1:\n",
    "            X_setosa.append(x)\n",
    "        else:\n",
    "            X_other.append(x)\n",
    "   \n",
    "    # convert to numpy array\n",
    "    X_setosa = np.array(X_setosa)\n",
    "    X_other = np.array(X_other)\n",
    "\n",
    "    # plot the two lists with different styles\n",
    "    plt.scatter(X_setosa[:, 0], X_setosa[:, 1], color='red', marker='o', label='setosa')\n",
    "    plt.scatter(X_other[:, 0], X_other[:, 1], color='blue', marker='o', label='other')\n",
    "\n",
    "    # decorate plot\n",
    "    plt.xlabel('sepal length')\n",
    "    plt.ylabel('sepal width')\n",
    "    plt.legend(loc='upper right')\n",
    "\n",
    "    return"
   ]
  },
  {
   "cell_type": "code",
   "execution_count": 8,
   "metadata": {},
   "outputs": [
    {
     "data": {
      "image/png": "[encoded data removed]",
      "text/plain": [
       "<Figure size 720x576 with 1 Axes>"
      ]
     },
     "metadata": {},
     "output_type": "display_data"
    }
   ],
   "source": [
    "# if you do not have the csv data file call fetch_iris_data() by removing the comment in the line below\n",
    "# fetch_iris_data()\n",
    "\n",
    "X_all, Y_all = prep_iris_data(df)\n",
    "\n",
    "plot_data(X_all, Y_all)"
   ]
  },
  {
   "cell_type": "markdown",
   "metadata": {},
   "source": [
    "## The Adaline code\n",
    "Note that the following class is almost exactly a copy of the `Perceptron` class that we have created earlier. The only change occured in the methods `learn`, where we implement the Adaline learning and update rule, and `plot_train_loss`, which plots the auxilliary loss function employed in the training."
   ]
  },
  {
   "cell_type": "code",
   "execution_count": 9,
   "metadata": {},
   "outputs": [],
   "source": [
    "class Adaline:\n",
    "\n",
    "    def __init__(self, num):\n",
    "        '''\n",
    "        initialize class for `num` input signals\n",
    "        '''\n",
    "\n",
    "        # weights of the Adaline, initialized to zero\n",
    "        # note the '1 + ' as the first weight entry is the threshold\n",
    "        self.w_ = np.zeros(1 + num)\n",
    "\n",
    "        return\n",
    "    \n",
    "    def activation_input(self, X):\n",
    "        '''\n",
    "        calculate the activation input of the neuron\n",
    "        '''\n",
    "        return np.dot(X, self.w_[1:]) + self.w_[0]\n",
    "\n",
    "    def classify(self, X):\n",
    "        '''\n",
    "        classify the data by sending the activation input through a step function\n",
    "        '''\n",
    "        return np.where(self.activation_input(X) >= 0.0, 1, -1)\n",
    "    \n",
    "    def learn(self, X_train, Y_train, eta=0.01, epochs=1000):\n",
    "        '''\n",
    "        fit training data according to eta and n_iter\n",
    "        and log the errors in errors_\n",
    "        '''\n",
    "\n",
    "        # we initialize two list, each for the misclassifications and the cost function\n",
    "        self.train_errors_ = []\n",
    "        self.train_loss_ = []\n",
    "\n",
    "        # for all the epoch\n",
    "        for _ in range(epochs):\n",
    "            # classify the traning features\n",
    "            Z = self.classify(X_train)\n",
    "            # count the misqualifications for the logging\n",
    "            err = 0\n",
    "            for z, y in zip(Z, Y_train):\n",
    "                err += int(z != y)\n",
    "            # ans save them in the list for later use\n",
    "            self.train_errors_.append(err)\n",
    "            \n",
    "            # compute the activation input of the entire traning features\n",
    "            output = self.activation_input(X_train)\n",
    "            # and then the deviation from the labels\n",
    "            delta = Y_train - output\n",
    "            # the following is an implmentation of the adaline update rule\n",
    "            self.w_[1:] += eta * X_train.T.dot(delta)\n",
    "            self.w_[0] += eta * delta.sum()\n",
    "            # and finally, we record the loss function\n",
    "            loss = (delta ** 2).sum() / 2.0\n",
    "            # and save it for later use\n",
    "            self.train_loss_.append(loss)\n",
    "\n",
    "        return\n",
    "    \n",
    "    def plot_train_loss(self):\n",
    "        '''\n",
    "        plots the loss function value per epoch\n",
    "        '''\n",
    "\n",
    "        # create two lists, one enumerating the epochs, the other the cost values\n",
    "        epochs, num_errs = np.arange(len(self.train_loss_)), np.array(self.train_loss_)\n",
    "\n",
    "        # plot the loss per epoch\n",
    "        fig = plt.figure()\n",
    "        axs = plt.gca()\n",
    "        axs.set_xlabel('epoch')\n",
    "        axs.set_ylabel('cost')\n",
    "        axs.set_title('Loss during training')\n",
    "        plt.plot(epochs, num_errs)\n",
    "\n",
    "        return\n",
    "\n",
    "    def plot_decision_regions(self, X, Y, X_train, Y_train, resolution):\n",
    "\n",
    "        # set up a 2d mesh of data points with resolution `resolution`\n",
    "        x1_min, x1_max = X[:, 0].min() - 2, X[:, 0].max() + 2\n",
    "        x2_min, x2_max = X[:, 1].min() - 2, X[:, 1].max() + 2\n",
    "\n",
    "        xx1, xx2 = np.meshgrid(np.arange(x1_min, x1_max, resolution),\n",
    "                               np.arange(x2_min, x2_max, resolution))\n",
    "\n",
    "        # start new plot\n",
    "        fig = plt.figure()\n",
    "        axs = plt.gca()\n",
    "\n",
    "        # make fictitious feature data out of the above 2d mesh\n",
    "        x_mesh = np.array( [xx1.ravel(), xx2.ravel()] ).T\n",
    "        # let the Adaline classify these features\n",
    "        Z = self.classify(x_mesh)\n",
    "        Z = Z.reshape(xx1.shape)\n",
    "\n",
    "        # plot the mesh as contour plot\n",
    "        axs.contourf(xx1, xx2, Z, alpha=0.4, cmap=matplotlib.colors.ListedColormap(['red', 'blue']))\n",
    "        axs.set_xlim(xx1.min(), xx1.max())\n",
    "        axs.set_ylim(xx2.min(), xx2.max())\n",
    "        \n",
    "        # sort the input data according to the flower species\n",
    "        X_setosa = []\n",
    "        X_other = []\n",
    "        for x, y in zip(X, Y):\n",
    "            if y == -1:\n",
    "                X_setosa.append(x)\n",
    "            else:\n",
    "                X_other.append(x)\n",
    "\n",
    "        # turn the array into numpy arrays\n",
    "        X_setosa = np.array(X_setosa)\n",
    "        X_other = np.array(X_other)\n",
    "\n",
    "        # and make a scatter plot with different styles for the two different species\n",
    "        axs.scatter(X_setosa[:, 0], X_setosa[:, 1], \n",
    "                    color='red', marker='.', label='Setosa')\n",
    "        axs.scatter(X_other[:, 0], X_other[:, 1], \n",
    "                    color='blue', marker='.', label='Other')\n",
    "        \n",
    "        # sort the training data according to the flower species\n",
    "        X_setosa = []\n",
    "        X_other = []\n",
    "        for x, y in zip(X_train, Y_train):\n",
    "            if y == -1:\n",
    "                X_setosa.append(x)\n",
    "            else:\n",
    "                X_other.append(x)\n",
    "\n",
    "        # turn the array into numpy arrays\n",
    "        X_setosa = np.array(X_setosa)\n",
    "        X_other = np.array(X_other)\n",
    "        \n",
    "        # and make a scatter plot with different styles for the two different species\n",
    "        axs.scatter(X_setosa[:, 0], X_setosa[:, 1], \n",
    "                    color='red', marker='x', label='S. training')\n",
    "        axs.scatter(X_other[:, 0], X_other[:, 1], \n",
    "                    color='blue', marker='x', label='O. training')\n",
    "\n",
    "        # add some additional annotations of the plot\n",
    "        axs.set_xlabel('sepal length')\n",
    "        axs.set_ylabel('sepal width')\n",
    "        axs.legend(loc='upper right')\n",
    "        axs.set_title('Adaline')\n",
    "\n",
    "        return\n",
    "\n",
    "    def plot_train_errors(self):\n",
    "        '''\n",
    "        plot the number of misclassifications per epoch\n",
    "        '''\n",
    "\n",
    "        # create two list, one with epoch numbers, and one with the errors per epoch\n",
    "        epochs, num_errs = np.arange(len(self.train_errors_)), np.array(self.train_errors_)\n",
    "\n",
    "        # plot the above data\n",
    "        fig = plt.figure()\n",
    "        axs = plt.gca()\n",
    "        axs.set_xlabel('epoch')\n",
    "        axs.set_ylabel('errors')\n",
    "        axs.set_title('Errors during training')\n",
    "        plt.plot(epochs, num_errs)\n",
    "\n",
    "        return\n",
    "\n",
    "    def efficiency(self, X_test, Y_test): \n",
    "        '''\n",
    "        compute the efficiency = 1 - number of misclassifications / number of data points\n",
    "        '''\n",
    "\n",
    "        err = 0\n",
    "        \n",
    "        # classify the test data\n",
    "        Z = self.classify(X_test)\n",
    "        for z, y in zip(Z, Y_test):\n",
    "            err += int(z != y)\n",
    "\n",
    "        return 1 - float(err) / len(X_test)"
   ]
  },
  {
   "cell_type": "markdown",
   "metadata": {},
   "source": [
    "Like before, we first initialize the Adaline class:"
   ]
  },
  {
   "cell_type": "code",
   "execution_count": 10,
   "metadata": {},
   "outputs": [],
   "source": [
    "train_samples = int( len(X_all) / 3 )\n",
    "\n",
    "# training data\n",
    "X_train, Y_train = X_all[:train_samples], Y_all[:train_samples]\n",
    "\n",
    "# data for testing the efficiency\n",
    "X, Y = X_all[train_samples:], Y_all[train_samples:]\n",
    "\n",
    "ada = Adaline(X.shape[1])"
   ]
  },
  {
   "cell_type": "markdown",
   "metadata": {},
   "source": [
    "and the conduct the training, and plot the loss and misclassifications per epoch:"
   ]
  },
  {
   "cell_type": "code",
   "execution_count": 11,
   "metadata": {},
   "outputs": [
    {
     "data": {
      "image/png": "[encoded data removed]",
      "text/plain": [
       "<Figure size 720x576 with 1 Axes>"
      ]
     },
     "metadata": {},
     "output_type": "display_data"
    },
    {
     "data": {
      "image/png": "[encoded data removed]",
      "text/plain": [
       "<Figure size 720x576 with 1 Axes>"
      ]
     },
     "metadata": {},
     "output_type": "display_data"
    }
   ],
   "source": [
    "ada.learn(X_train, Y_train, eta=0.0001, epochs=1000)\n",
    "ada.plot_train_loss()\n",
    "ada.plot_train_errors()"
   ]
  },
  {
   "cell_type": "markdown",
   "metadata": {},
   "source": [
    "And furthermore, the decission regions:"
   ]
  },
  {
   "cell_type": "code",
   "execution_count": 12,
   "metadata": {},
   "outputs": [
    {
     "data": {
      "image/png": "[encoded data removed]",
      "text/plain": [
       "<Figure size 720x576 with 1 Axes>"
      ]
     },
     "metadata": {},
     "output_type": "display_data"
    }
   ],
   "source": [
    "ada.plot_decision_regions(X, Y, X_train, Y_train, 0.02)"
   ]
  },
  {
   "cell_type": "markdown",
   "metadata": {},
   "source": [
    "And finally, the we compute the efficiency:"
   ]
  },
  {
   "cell_type": "code",
   "execution_count": 16,
   "metadata": {},
   "outputs": [
    {
     "name": "stdout",
     "output_type": "stream",
     "text": [
      "Efficiency (train) = 1.0\n",
      "Efficiency (test)  = 0.99\n",
      "Efficiency (all)   = 0.9933333333333333\n"
     ]
    }
   ],
   "source": [
    "eff_train = ada.efficiency(X_train, Y_train)\n",
    "eff_test = ada.efficiency(X, Y)\n",
    "eff_all = ada.efficiency(X_all, Y_all)\n",
    "\n",
    "print('Efficiency (train) =', eff_train)\n",
    "print('Efficiency (test)  =', eff_test)\n",
    "print('Efficiency (all)   =', eff_all)"
   ]
  },
  {
   "cell_type": "code",
   "execution_count": 17,
   "metadata": {},
   "outputs": [
    {
     "data": {
      "text/plain": [
       "(2,)"
      ]
     },
     "execution_count": 17,
     "metadata": {},
     "output_type": "execute_result"
    }
   ],
   "source": [
    "X_train[0].shape"
   ]
  },
  {
   "cell_type": "code",
   "execution_count": null,
   "metadata": {},
   "outputs": [],
   "source": []
  }
 ],
 "metadata": {
  "kernelspec": {
   "display_name": "Python 3",
   "language": "python",
   "name": "python3"
  },
  "language_info": {
   "codemirror_mode": {
    "name": "ipython",
    "version": 3
   },
   "file_extension": ".py",
   "mimetype": "text/x-python",
   "name": "python",
   "nbconvert_exporter": "python",
   "pygments_lexer": "ipython3",
   "version": "3.6.5"
  }
 },
 "nbformat": 4,
 "nbformat_minor": 2
}
